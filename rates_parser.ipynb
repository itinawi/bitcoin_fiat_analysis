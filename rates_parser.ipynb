{
 "cells": [
  {
   "cell_type": "code",
   "execution_count": 13,
   "metadata": {},
   "outputs": [],
   "source": [
    "import csv\n",
    "import pandas as pd\n",
    "import time"
   ]
  },
  {
   "cell_type": "code",
   "execution_count": 6,
   "metadata": {},
   "outputs": [],
   "source": [
    "folder_name = \"bitcoin_fiat_analysis/more_rates/\"\n",
    "exchange_files = [\"btc-aud-max.csv\",\"btc-brl-max.csv\",\"btc-cad-max.csv\",\"btc-chf-max.csv\",\"btc-cny-max.csv\",\n",
    "                 \"btc-dkk-max.csv\",\"btc-eur-max.csv\",\"btc-gbp-max.csv\",\"btc-hkd-max.csv\",\"btc-idr-max.csv\",\n",
    "                 \"btc-inr-max.csv\",\"btc-jpy-max.csv\",\"btc-krw-max.csv\",\"btc-mxn-max.csv\",\"btc-myr-max.csv\",\n",
    "                 \"btc-nzd-max.csv\",\"btc-php-max.csv\",\"btc-pln-max.csv\",\"btc-rub-max.csv\",\"btc-sek-max.csv\",\n",
    "                 \"btc-sgd-max.csv\",\"btc-twd-max.csv\",\"btc-usd-max.csv\",\"btc-zar-max.csv\"]"
   ]
  },
  {
   "cell_type": "code",
   "execution_count": 36,
   "metadata": {},
   "outputs": [],
   "source": [
    "dollar = pd.read_csv(folder_name+exchange_files[22])\n",
    "dollar;"
   ]
  },
  {
   "cell_type": "code",
   "execution_count": 19,
   "metadata": {},
   "outputs": [
    {
     "data": {
      "text/plain": [
       "pandas.core.frame.DataFrame"
      ]
     },
     "execution_count": 19,
     "metadata": {},
     "output_type": "execute_result"
    }
   ],
   "source": [
    "type(dollar)"
   ]
  },
  {
   "cell_type": "code",
   "execution_count": 30,
   "metadata": {},
   "outputs": [
    {
     "data": {
      "text/html": [
       "<div>\n",
       "<style scoped>\n",
       "    .dataframe tbody tr th:only-of-type {\n",
       "        vertical-align: middle;\n",
       "    }\n",
       "\n",
       "    .dataframe tbody tr th {\n",
       "        vertical-align: top;\n",
       "    }\n",
       "\n",
       "    .dataframe thead th {\n",
       "        text-align: right;\n",
       "    }\n",
       "</style>\n",
       "<table border=\"1\" class=\"dataframe\">\n",
       "  <thead>\n",
       "    <tr style=\"text-align: right;\">\n",
       "      <th></th>\n",
       "      <th>snapped_at</th>\n",
       "      <th>price</th>\n",
       "      <th>market_cap</th>\n",
       "      <th>total_volume</th>\n",
       "    </tr>\n",
       "  </thead>\n",
       "  <tbody>\n",
       "    <tr>\n",
       "      <th>365</th>\n",
       "      <td>2018-01-01 00:00:00 UTC</td>\n",
       "      <td>14093.606831</td>\n",
       "      <td>2.364403e+11</td>\n",
       "      <td>2.345479e+09</td>\n",
       "    </tr>\n",
       "  </tbody>\n",
       "</table>\n",
       "</div>"
      ],
      "text/plain": [
       "                  snapped_at         price    market_cap  total_volume\n",
       "365  2018-01-01 00:00:00 UTC  14093.606831  2.364403e+11  2.345479e+09"
      ]
     },
     "execution_count": 30,
     "metadata": {},
     "output_type": "execute_result"
    }
   ],
   "source": [
    "dollar.loc[dollar['snapped_at'] == \"2018-01-01 00:00:00 UTC\"]"
   ]
  },
  {
   "cell_type": "code",
   "execution_count": 32,
   "metadata": {},
   "outputs": [],
   "source": [
    "def get_rates_data():\n",
    "    rates = {}\n",
    "    for rate in exchange_files:\n",
    "        this_rate = pd.read_csv(folder_name+rate)\n",
    "        rates[rate[:7]] = this_rate\n",
    "    return rates"
   ]
  },
  {
   "cell_type": "code",
   "execution_count": 35,
   "metadata": {},
   "outputs": [],
   "source": [
    "rates = get_rates_data();\n",
    "rates['btc-aud'];"
   ]
  },
  {
   "cell_type": "code",
   "execution_count": 62,
   "metadata": {},
   "outputs": [],
   "source": [
    "# rates variable is defined from get_rates_data()\n",
    "def get_price(date, currency_df):\n",
    "    price = currency_df.loc[currency_df['snapped_at'] == (date + \" 00:00:00 UTC\")]['price']\n",
    "    if len(price)>0:\n",
    "        return price\n",
    "    else:\n",
    "        return \"no info for date\""
   ]
  },
  {
   "cell_type": "code",
   "execution_count": 66,
   "metadata": {},
   "outputs": [
    {
     "data": {
      "text/plain": [
       "365    14093.606831\n",
       "Name: price, dtype: float64"
      ]
     },
     "execution_count": 66,
     "metadata": {},
     "output_type": "execute_result"
    }
   ],
   "source": [
    "get_price(\"2018-01-01\", rates['btc-usd'])"
   ]
  },
  {
   "cell_type": "code",
   "execution_count": null,
   "metadata": {},
   "outputs": [],
   "source": []
  }
 ],
 "metadata": {
  "kernelspec": {
   "display_name": "Python 3",
   "language": "python",
   "name": "python3"
  },
  "language_info": {
   "codemirror_mode": {
    "name": "ipython",
    "version": 3
   },
   "file_extension": ".py",
   "mimetype": "text/x-python",
   "name": "python",
   "nbconvert_exporter": "python",
   "pygments_lexer": "ipython3",
   "version": "3.5.2"
  }
 },
 "nbformat": 4,
 "nbformat_minor": 2
}
