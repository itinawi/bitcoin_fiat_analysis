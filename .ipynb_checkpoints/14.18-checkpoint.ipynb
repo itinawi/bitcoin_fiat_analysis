{
 "cells": [
  {
   "cell_type": "code",
   "execution_count": 1,
   "metadata": {},
   "outputs": [],
   "source": [
    "import blocksci\n",
    "import matplotlib.pyplot as plt\n",
    "import matplotlib.ticker\n",
    "import collections\n",
    "import pandas as pd\n",
    "import numpy as np\n",
    "import csv\n",
    "import datetime\n",
    "%matplotlib notebook"
   ]
  },
  {
   "cell_type": "code",
   "execution_count": 2,
   "metadata": {},
   "outputs": [],
   "source": [
    "# important functions for the rates\n",
    "folder_name = \"bitcoin_fiat_analysis/more_rates/\"\n",
    "# exchange_files = [\"btc-aud-max.csv\",\"btc-brl-max.csv\",\"btc-cad-max.csv\",\"btc-chf-max.csv\",\"btc-cny-max.csv\",\n",
    "#                  \"btc-dkk-max.csv\",\"btc-eur-max.csv\",\"btc-gbp-max.csv\",\"btc-hkd-max.csv\",\"btc-idr-max.csv\",\n",
    "#                  \"btc-inr-max.csv\",\"btc-jpy-max.csv\",\"btc-krw-max.csv\",\"btc-mxn-max.csv\",\"btc-myr-max.csv\",\n",
    "#                  \"btc-nzd-max.csv\",\"btc-php-max.csv\",\"btc-pln-max.csv\",\"btc-rub-max.csv\",\"btc-sek-max.csv\",\n",
    "#                  \"btc-sgd-max.csv\",\"btc-twd-max.csv\",\"btc-usd-max.csv\",\"btc-zar-max.csv\"]\n",
    "exchange_files = [\"btc-usd-max.csv\"]\n",
    "\n",
    "def get_rates_data():\n",
    "    rates = {}\n",
    "    for rate in exchange_files:\n",
    "        this_rate = pd.read_csv(folder_name+rate)\n",
    "        rates[rate[:7]] = this_rate\n",
    "    return rates\n",
    "\n",
    "# rates variable is defined from get_rates_data()\n",
    "def get_price(date, currency_df):\n",
    "    price = currency_df.loc[currency_df['snapped_at'] == (date + \" 00:00:00 UTC\")]['price']\n",
    "    if len(price)>0:\n",
    "        return float(price)\n",
    "    else:\n",
    "        return \"no info for date\""
   ]
  },
  {
   "cell_type": "code",
   "execution_count": 3,
   "metadata": {},
   "outputs": [],
   "source": [
    "# parser_data_directory should be set to the data-directory which the blocksci_parser output\n",
    "chain = blocksci.Blockchain(\"/home/avery/Developer/blocksci-data\")"
   ]
  },
  {
   "cell_type": "code",
   "execution_count": 4,
   "metadata": {},
   "outputs": [
    {
     "data": {
      "text/plain": [
       "blocksci.blocksci_interface.Blockchain"
      ]
     },
     "execution_count": 4,
     "metadata": {},
     "output_type": "execute_result"
    }
   ],
   "source": [
    "type(chain)"
   ]
  },
  {
   "cell_type": "code",
   "execution_count": 5,
   "metadata": {},
   "outputs": [],
   "source": [
    "first_block = chain[0]"
   ]
  },
  {
   "cell_type": "code",
   "execution_count": 6,
   "metadata": {},
   "outputs": [
    {
     "data": {
      "text/plain": [
       "1231006505"
      ]
     },
     "execution_count": 6,
     "metadata": {},
     "output_type": "execute_result"
    }
   ],
   "source": [
    "first_block.timestamp"
   ]
  },
  {
   "cell_type": "code",
   "execution_count": 7,
   "metadata": {},
   "outputs": [
    {
     "data": {
      "text/plain": [
       "[5000000000]"
      ]
     },
     "execution_count": 7,
     "metadata": {},
     "output_type": "execute_result"
    }
   ],
   "source": [
    "first_block.outputs.value"
   ]
  },
  {
   "cell_type": "code",
   "execution_count": 7,
   "metadata": {},
   "outputs": [],
   "source": [
    "fees = [sum(block.txes.fee) / len(block) for block in chain.range('2017')]"
   ]
  },
  {
   "cell_type": "code",
   "execution_count": 8,
   "metadata": {},
   "outputs": [
    {
     "data": {
      "text/plain": [
       "55931"
      ]
     },
     "execution_count": 8,
     "metadata": {},
     "output_type": "execute_result"
    }
   ],
   "source": [
    "len(fees)"
   ]
  },
  {
   "cell_type": "code",
   "execution_count": 4,
   "metadata": {},
   "outputs": [],
   "source": [
    "blocks_1418 = [block for block in chain.range('12-04-2017','12-09-2017')]"
   ]
  },
  {
   "cell_type": "code",
   "execution_count": 5,
   "metadata": {},
   "outputs": [
    {
     "data": {
      "text/plain": [
       "850"
      ]
     },
     "execution_count": 5,
     "metadata": {},
     "output_type": "execute_result"
    }
   ],
   "source": [
    "# blocks_2017 = [block for block in chain.range('2017')]\n",
    "len(blocks_1418)"
   ]
  },
  {
   "cell_type": "code",
   "execution_count": 13,
   "metadata": {},
   "outputs": [
    {
     "data": {
      "text/plain": [
       "2023732"
      ]
     },
     "execution_count": 13,
     "metadata": {},
     "output_type": "execute_result"
    }
   ],
   "source": [
    "total_txns = 0\n",
    "for block in blocks_1418:\n",
    "    total_txns += len(block.txes)\n",
    "total_txns"
   ]
  },
  {
   "cell_type": "code",
   "execution_count": 6,
   "metadata": {},
   "outputs": [],
   "source": [
    "# initialize all vars for the analysis\n",
    "# this array will hold all of the processed transactions\n",
    "inferred_transactions = np.array([])\n",
    "rates = get_rates_data();"
   ]
  },
  {
   "cell_type": "code",
   "execution_count": 7,
   "metadata": {},
   "outputs": [
    {
     "data": {
      "text/plain": [
       "TxOut(spending_tx_index=278113155, address=PubkeyHashAddress(1CK6KHY6MHgYvmRQ4PAafKYDrg1ejbH1cE), value=1297127127)"
      ]
     },
     "execution_count": 7,
     "metadata": {},
     "output_type": "execute_result"
    }
   ],
   "source": [
    "blocks_1418[0].txes.all[0].block_time # already a datetime\n",
    "blocks_1418[0].txes.all[0].outputs[0]"
   ]
  },
  {
   "cell_type": "code",
   "execution_count": null,
   "metadata": {},
   "outputs": [],
   "source": []
  },
  {
   "cell_type": "code",
   "execution_count": 8,
   "metadata": {},
   "outputs": [],
   "source": [
    "satoshi_to_btc = 0.00000001 # one one-hundredth million of a bitcoin is a Satoshi\n",
    "def infer_currency(txn):\n",
    "    best_error = 10**9\n",
    "    inferred_currency = 'none'\n",
    "    for output in txn.outputs:\n",
    "        for rate in rates.keys():\n",
    "            date = txn.block_time.strftime('%Y-%m-%d')\n",
    "            exchange_rate = get_price(date, rates[rate])\n",
    "#             print(exchange_rate, type(exchange_rate), 'exchange_rate')\n",
    "            txn_amount = exchange_rate*satoshi_to_btc*output.value\n",
    "            diff = abs(txn_amount - int(round(txn_amount)))\n",
    "            if diff < best_error:\n",
    "                best_error = diff\n",
    "                inferred_currency = rate\n",
    "    return inferred_currency"
   ]
  },
  {
   "cell_type": "code",
   "execution_count": null,
   "metadata": {},
   "outputs": [],
   "source": [
    "%%capture output\n",
    "import time\n",
    "inferred_transactions = np.array([])\n",
    "start = time.time()\n",
    "block_count = 0 # out of 55931 or 850 (1418)\n",
    "for block in blocks_1418:\n",
    "    block_count += 1\n",
    "#     if block_count % 10 == 0:\n",
    "    print(block_count)\n",
    "    for txn in block.txes.all:\n",
    "        np.append(inferred_transactions,infer_currency(txn))\n",
    "\n",
    "end = time.time()\n",
    "print(end - start)"
   ]
  },
  {
   "cell_type": "code",
   "execution_count": 48,
   "metadata": {},
   "outputs": [
    {
     "data": {
      "text/plain": [
       "1260658449"
      ]
     },
     "execution_count": 48,
     "metadata": {},
     "output_type": "execute_result"
    }
   ],
   "source": [
    "# started at 4:49am.\n",
    "blocks_2017[0].coinbase_tx.output_value"
   ]
  },
  {
   "cell_type": "code",
   "execution_count": 63,
   "metadata": {},
   "outputs": [],
   "source": [
    "# script to see how much money miners made in 2017\n",
    "miners_total = 0\n",
    "for block in blocks_2017:\n",
    "    miners_total += block.fee + block.coinbase_tx.output_value\n",
    "miners_total*satoshi_to_btc"
   ]
  },
  {
   "cell_type": "code",
   "execution_count": 6,
   "metadata": {},
   "outputs": [
    {
     "ename": "TypeError",
     "evalue": "is_definite_coinjoin(): incompatible function arguments. The following argument types are supported:\n    1. (arg0: blocksci.blocksci_interface.Tx, arg1: int, arg2: float, arg3: int) -> blocksci::heuristics::CoinJoinResult\n    2. (arg0: blocksci.blocksci_interface.Tx, arg1: int, arg2: float) -> blocksci::heuristics::CoinJoinResult\n\nInvoked with: Tx(len(txins)=0, len(txouts)=1, size_bytes=128, block_height=446064, tx_index=183813678)",
     "output_type": "error",
     "traceback": [
      "\u001b[0;31m---------------------------------------------------------------------------\u001b[0m",
      "\u001b[0;31mTypeError\u001b[0m                                 Traceback (most recent call last)",
      "\u001b[0;32m<ipython-input-6-e4f78bbd75d1>\u001b[0m in \u001b[0;36m<module>\u001b[0;34m()\u001b[0m\n\u001b[1;32m      2\u001b[0m \u001b[0;32mfor\u001b[0m \u001b[0mblock\u001b[0m \u001b[0;32min\u001b[0m \u001b[0mblocks_2017\u001b[0m\u001b[0;34m:\u001b[0m\u001b[0;34m\u001b[0m\u001b[0m\n\u001b[1;32m      3\u001b[0m     \u001b[0;32mfor\u001b[0m \u001b[0mtxn\u001b[0m \u001b[0;32min\u001b[0m \u001b[0mblock\u001b[0m\u001b[0;34m.\u001b[0m\u001b[0mtxes\u001b[0m\u001b[0;34m.\u001b[0m\u001b[0mall\u001b[0m\u001b[0;34m:\u001b[0m\u001b[0;34m\u001b[0m\u001b[0m\n\u001b[0;32m----> 4\u001b[0;31m         \u001b[0;32mif\u001b[0m \u001b[0mblocksci\u001b[0m\u001b[0;34m.\u001b[0m\u001b[0mblocksci_interface\u001b[0m\u001b[0;34m.\u001b[0m\u001b[0mheuristics\u001b[0m\u001b[0;34m.\u001b[0m\u001b[0mis_definite_coinjoin\u001b[0m\u001b[0;34m(\u001b[0m\u001b[0mtxn\u001b[0m\u001b[0;34m)\u001b[0m\u001b[0;34m:\u001b[0m\u001b[0;34m\u001b[0m\u001b[0m\n\u001b[0m\u001b[1;32m      5\u001b[0m             \u001b[0mcount\u001b[0m \u001b[0;34m+=\u001b[0m \u001b[0;36m1\u001b[0m\u001b[0;34m\u001b[0m\u001b[0m\n\u001b[1;32m      6\u001b[0m \u001b[0mcount\u001b[0m\u001b[0;34m\u001b[0m\u001b[0m\n",
      "\u001b[0;31mTypeError\u001b[0m: is_definite_coinjoin(): incompatible function arguments. The following argument types are supported:\n    1. (arg0: blocksci.blocksci_interface.Tx, arg1: int, arg2: float, arg3: int) -> blocksci::heuristics::CoinJoinResult\n    2. (arg0: blocksci.blocksci_interface.Tx, arg1: int, arg2: float) -> blocksci::heuristics::CoinJoinResult\n\nInvoked with: Tx(len(txins)=0, len(txouts)=1, size_bytes=128, block_height=446064, tx_index=183813678)"
     ]
    }
   ],
   "source": [
    "count = 0 \n",
    "for block in blocks_2017:\n",
    "    for txn in block.txes.all:\n",
    "        if blocksci.blocksci_interface.heuristics.is_definite_coinjoin(txn):\n",
    "            count += 1\n",
    "count"
   ]
  },
  {
   "cell_type": "code",
   "execution_count": 10,
   "metadata": {},
   "outputs": [],
   "source": [
    "hi = blocksci.blocksci_interface.heuristics.coinjoin_txes(chain,0,1000)"
   ]
  },
  {
   "cell_type": "code",
   "execution_count": null,
   "metadata": {},
   "outputs": [],
   "source": []
  },
  {
   "cell_type": "code",
   "execution_count": null,
   "metadata": {},
   "outputs": [],
   "source": []
  }
 ],
 "metadata": {
  "kernelspec": {
   "display_name": "Python 3",
   "language": "python",
   "name": "python3"
  },
  "language_info": {
   "codemirror_mode": {
    "name": "ipython",
    "version": 3
   },
   "file_extension": ".py",
   "mimetype": "text/x-python",
   "name": "python",
   "nbconvert_exporter": "python",
   "pygments_lexer": "ipython3",
   "version": "3.5.2"
  }
 },
 "nbformat": 4,
 "nbformat_minor": 2
}
