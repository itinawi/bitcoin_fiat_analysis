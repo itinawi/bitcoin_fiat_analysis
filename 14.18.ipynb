{
 "cells": [
  {
   "cell_type": "code",
   "execution_count": 1,
   "metadata": {},
   "outputs": [],
   "source": [
    "import blocksci\n",
    "import matplotlib.pyplot as plt\n",
    "import matplotlib.ticker\n",
    "import collections\n",
    "import pandas as pd\n",
    "import numpy as np\n",
    "import csv\n",
    "import datetime\n",
    "%matplotlib notebook"
   ]
  },
  {
   "cell_type": "code",
   "execution_count": 2,
   "metadata": {},
   "outputs": [],
   "source": [
    "# important functions for the rates\n",
    "folder_name = \"bitcoin_fiat_analysis/more_rates/\"\n",
    "# exchange_files = [\"btc-aud-max.csv\",\"btc-brl-max.csv\",\"btc-cad-max.csv\",\"btc-chf-max.csv\",\"btc-cny-max.csv\",\n",
    "#                  \"btc-dkk-max.csv\",\"btc-eur-max.csv\",\"btc-gbp-max.csv\",\"btc-hkd-max.csv\",\"btc-idr-max.csv\",\n",
    "#                  \"btc-inr-max.csv\",\"btc-jpy-max.csv\",\"btc-krw-max.csv\",\"btc-mxn-max.csv\",\"btc-myr-max.csv\",\n",
    "#                  \"btc-nzd-max.csv\",\"btc-php-max.csv\",\"btc-pln-max.csv\",\"btc-rub-max.csv\",\"btc-sek-max.csv\",\n",
    "#                  \"btc-sgd-max.csv\",\"btc-twd-max.csv\",\"btc-usd-max.csv\",\"btc-zar-max.csv\"]\n",
    "exchange_files = [\"btc-usd-max.csv\"]\n",
    "\n",
    "def get_rates_data():\n",
    "    rates = {}\n",
    "    for rate in exchange_files:\n",
    "        this_rate = pd.read_csv(folder_name+rate)\n",
    "        rates[rate[:7]] = this_rate\n",
    "    return rates\n",
    "\n",
    "# rates variable is defined from get_rates_data()\n",
    "dollar_df = pd.read_csv(folder_name+exchange_files[0])\n",
    "# def get_price(date, currency_df):\n",
    "def get_price(date):\n",
    "#     price = currency_df.loc[currency_df['snapped_at'] == (date + \" 00:00:00 UTC\")]['price']\n",
    "    price = dollar_df.loc[dollar_df['snapped_at'] == (date + \" 00:00:00 UTC\")]['price']\n",
    "    if len(price)>0:\n",
    "        return float(price)\n",
    "    else:\n",
    "        return \"no info for date\""
   ]
  },
  {
   "cell_type": "code",
   "execution_count": 3,
   "metadata": {},
   "outputs": [],
   "source": [
    "# parser_data_directory should be set to the data-directory which the blocksci_parser output\n",
    "chain = blocksci.Blockchain(\"/home/avery/Developer/blocksci-data\")"
   ]
  },
  {
   "cell_type": "code",
   "execution_count": 4,
   "metadata": {},
   "outputs": [
    {
     "data": {
      "text/plain": [
       "blocksci.blocksci_interface.Blockchain"
      ]
     },
     "execution_count": 4,
     "metadata": {},
     "output_type": "execute_result"
    }
   ],
   "source": [
    "type(chain)"
   ]
  },
  {
   "cell_type": "code",
   "execution_count": 5,
   "metadata": {},
   "outputs": [],
   "source": [
    "first_block = chain[0]"
   ]
  },
  {
   "cell_type": "code",
   "execution_count": 6,
   "metadata": {},
   "outputs": [
    {
     "data": {
      "text/plain": [
       "1231006505"
      ]
     },
     "execution_count": 6,
     "metadata": {},
     "output_type": "execute_result"
    }
   ],
   "source": [
    "first_block.timestamp"
   ]
  },
  {
   "cell_type": "code",
   "execution_count": 7,
   "metadata": {},
   "outputs": [
    {
     "data": {
      "text/plain": [
       "[5000000000]"
      ]
     },
     "execution_count": 7,
     "metadata": {},
     "output_type": "execute_result"
    }
   ],
   "source": [
    "first_block.outputs.value"
   ]
  },
  {
   "cell_type": "code",
   "execution_count": 7,
   "metadata": {},
   "outputs": [],
   "source": [
    "fees = [sum(block.txes.fee) / len(block) for block in chain.range('2017')]"
   ]
  },
  {
   "cell_type": "code",
   "execution_count": 8,
   "metadata": {},
   "outputs": [
    {
     "data": {
      "text/plain": [
       "55931"
      ]
     },
     "execution_count": 8,
     "metadata": {},
     "output_type": "execute_result"
    }
   ],
   "source": [
    "len(fees)"
   ]
  },
  {
   "cell_type": "code",
   "execution_count": 4,
   "metadata": {},
   "outputs": [],
   "source": [
    "blocks_1418 = [block for block in chain.range('12-04-2017','12-09-2017')]"
   ]
  },
  {
   "cell_type": "code",
   "execution_count": 5,
   "metadata": {},
   "outputs": [
    {
     "data": {
      "text/plain": [
       "850"
      ]
     },
     "execution_count": 5,
     "metadata": {},
     "output_type": "execute_result"
    }
   ],
   "source": [
    "# blocks_2017 = [block for block in chain.range('2017')]\n",
    "len(blocks_1418)"
   ]
  },
  {
   "cell_type": "code",
   "execution_count": 7,
   "metadata": {},
   "outputs": [
    {
     "data": {
      "text/plain": [
       "2023732"
      ]
     },
     "execution_count": 7,
     "metadata": {},
     "output_type": "execute_result"
    }
   ],
   "source": [
    "total_txns = 0\n",
    "for block in blocks_1418:\n",
    "    total_txns += len(block.txes)\n",
    "total_txns"
   ]
  },
  {
   "cell_type": "code",
   "execution_count": 8,
   "metadata": {},
   "outputs": [],
   "source": [
    "# initialize all vars for the analysis\n",
    "# this array will hold all of the processed transactions\n",
    "inferred_transactions = np.array([])\n",
    "rates = get_rates_data();"
   ]
  },
  {
   "cell_type": "code",
   "execution_count": 7,
   "metadata": {},
   "outputs": [
    {
     "data": {
      "text/plain": [
       "TxOut(spending_tx_index=278113155, address=PubkeyHashAddress(1CK6KHY6MHgYvmRQ4PAafKYDrg1ejbH1cE), value=1297127127)"
      ]
     },
     "execution_count": 7,
     "metadata": {},
     "output_type": "execute_result"
    }
   ],
   "source": [
    "blocks_1418[0].txes.all[0].block_time # already a datetime\n",
    "blocks_1418[0].txes.all[0].outputs[0]"
   ]
  },
  {
   "cell_type": "code",
   "execution_count": 13,
   "metadata": {},
   "outputs": [],
   "source": [
    "inferred_transactions = []"
   ]
  },
  {
   "cell_type": "code",
   "execution_count": 6,
   "metadata": {},
   "outputs": [],
   "source": [
    "satoshi_to_btc = 0.00000001 # one one-hundredth million of a bitcoin is a Satoshi\n",
    "def infer_currency(txn):\n",
    "    best_error = 10**9\n",
    "    inferred_currency = 'none'\n",
    "    for output in txn.outputs:\n",
    "        for rate in rates.keys():\n",
    "            date = txn.block_time.strftime('%Y-%m-%d')\n",
    "            exchange_rate = get_price(date, rates[rate])\n",
    "#             print(exchange_rate, type(exchange_rate), 'exchange_rate')\n",
    "            txn_amount = exchange_rate*satoshi_to_btc*output.value\n",
    "            diff = abs(txn_amount - int(round(txn_amount)))\n",
    "            if diff < best_error:\n",
    "                best_error = diff\n",
    "                inferred_currency = rate\n",
    "    return inferred_currency"
   ]
  },
  {
   "cell_type": "code",
   "execution_count": 29,
   "metadata": {},
   "outputs": [],
   "source": [
    "satoshi_to_btc = 0.00000001 # one one-hundredth million of a bitcoin is a Satoshi\n",
    "def infer_dollar(txn):\n",
    "    dollar = False\n",
    "    date = txn.block_time.strftime('%Y-%m-%d')\n",
    "    exchange_rate = get_price(date)\n",
    "    for output in txn.outputs:\n",
    "        txn_amount = int(exchange_rate*satoshi_to_btc*output.value) # rounding to int so as to get rid of cents\n",
    "        if (txn_amount % 100 == 0) or (txn_amount % 10 == 0) or (txn_amount % 5 == 0):\n",
    "            us_lower = 4\n",
    "            us_higher = 16\n",
    "            if txn.block_time.hour > us_lower and txn.block_time.hour < us_higher: \n",
    "                return True\n",
    "            # if any of the outputs is a whole dollar value\n",
    "    return False\n",
    "#         diff = abs(txn_amount - int(round(txn_amount)))\n",
    "#     if diff < 0.5:\n",
    "#         return True\n",
    "#     return False"
   ]
  },
  {
   "cell_type": "code",
   "execution_count": null,
   "metadata": {},
   "outputs": [
    {
     "name": "stdout",
     "output_type": "stream",
     "text": [
      "50\n",
      "100\n",
      "150\n",
      "200\n",
      "250\n",
      "300\n",
      "350\n",
      "400\n",
      "450\n",
      "500\n",
      "550\n",
      "600\n",
      "650\n",
      "700\n"
     ]
    }
   ],
   "source": [
    "import time\n",
    "start = time.time()\n",
    "inferred_transactions = []\n",
    "block_count = 0 # out of 55931 or 850 (1418)\n",
    "for block in blocks_1418:\n",
    "    block_count += 1\n",
    "    if block_count % 50 == 0:\n",
    "        print(block_count)\n",
    "    for txn in block.txes.all:\n",
    "        inferred_transactions.append(infer_dollar(txn))\n",
    "#         np.append(inferred_transactions,infer_currency(txn))\n",
    "\n",
    "end = time.time()\n",
    "print(end - start)"
   ]
  },
  {
   "cell_type": "code",
   "execution_count": 20,
   "metadata": {},
   "outputs": [],
   "source": [
    "chinese_inferred = []\n",
    "chinese_df = pd.read_csv(folder_name+\"btc-cny-max.csv\")\n",
    "# def get_price(date, currency_df):\n",
    "def get_rmb(date):\n",
    "#     price = currency_df.loc[currency_df['snapped_at'] == (date + \" 00:00:00 UTC\")]['price']\n",
    "    price = chinese_df.loc[chinese_df['snapped_at'] == (date + \" 00:00:00 UTC\")]['price']\n",
    "    if len(price)>0:\n",
    "        return float(price)\n",
    "    else:\n",
    "        return \"no info for date\"\n",
    "satoshi_to_btc = 0.00000001 # one one-hundredth million of a bitcoin is a Satoshi\n",
    "def infer_rmb(txn):\n",
    "    date = txn.block_time.strftime('%Y-%m-%d')\n",
    "    exchange_rate = get_rmb(date)\n",
    "    for output in txn.outputs:\n",
    "        txn_amount = int(exchange_rate*satoshi_to_btc*output.value) # rounding to int so as to get rid of cents\n",
    "        if (txn_amount % 100 == 0) or (txn_amount % 10 == 0) or (txn_amount % 5 == 0):\n",
    "            # if any of the outputs is a whole dollar value\n",
    "            china_lower = 1\n",
    "            china_higher = 15\n",
    "            if txn.block_time.hour > china_lower and txn.block_time.hour < china_higher: \n",
    "                return True\n",
    "    return False"
   ]
  },
  {
   "cell_type": "code",
   "execution_count": null,
   "metadata": {},
   "outputs": [
    {
     "name": "stdout",
     "output_type": "stream",
     "text": [
      "50\n",
      "100\n",
      "150\n",
      "200\n",
      "250\n",
      "300\n",
      "350\n",
      "400\n",
      "450\n",
      "500\n",
      "550\n",
      "600\n",
      "650\n",
      "700\n",
      "750\n",
      "800\n"
     ]
    }
   ],
   "source": [
    "import time\n",
    "start = time.time()\n",
    "chinese_inferred = []\n",
    "block_count = 0 # out of 55931 or 850 (1418)\n",
    "for block in blocks_1418:\n",
    "    block_count += 1\n",
    "    if block_count % 50 == 0:\n",
    "        print(block_count)\n",
    "    for txn in block.txes.all:\n",
    "        chinese_inferred.append(infer_rmb(txn))\n",
    "#         np.append(inferred_transactions,infer_currency(txn))\n",
    "\n",
    "end = time.time()\n",
    "print(end - start)"
   ]
  },
  {
   "cell_type": "code",
   "execution_count": 23,
   "metadata": {},
   "outputs": [
    {
     "name": "stdout",
     "output_type": "stream",
     "text": [
      "50\n",
      "100\n",
      "150\n",
      "200\n",
      "250\n",
      "300\n",
      "350\n",
      "400\n",
      "450\n",
      "500\n",
      "550\n",
      "600\n",
      "650\n",
      "700\n",
      "750\n",
      "800\n",
      "850\n",
      "758.638085603714\n"
     ]
    }
   ],
   "source": [
    "yen_df = pd.read_csv(folder_name+\"btc-jpy-max.csv\")\n",
    "# def get_price(date, currency_df):\n",
    "def get_yen(date):\n",
    "#     price = currency_df.loc[currency_df['snapped_at'] == (date + \" 00:00:00 UTC\")]['price']\n",
    "    price = yen_df.loc[yen_df['snapped_at'] == (date + \" 00:00:00 UTC\")]['price']\n",
    "    if len(price)>0:\n",
    "        return float(price)\n",
    "    else:\n",
    "        return \"no info for date\"\n",
    "satoshi_to_btc = 0.00000001 # one one-hundredth million of a bitcoin is a Satoshi\n",
    "def infer_yen(txn):\n",
    "    date = txn.block_time.strftime('%Y-%m-%d')\n",
    "    exchange_rate = get_yen(date)\n",
    "    for output in txn.outputs:\n",
    "        txn_amount = int(exchange_rate*satoshi_to_btc*output.value) # rounding to int so as to get rid of cents\n",
    "        if (txn_amount % 100 == 0) or (txn_amount % 10 == 0) or (txn_amount % 5 == 0):\n",
    "            yen_lower = 0\n",
    "            yen_higher = 14\n",
    "            if txn.block_time.hour > yen_lower and txn.block_time.hour < yen_higher: \n",
    "                return True\n",
    "    return False\n",
    "\n",
    "\n",
    "start = time.time()\n",
    "japanese_inferred = []\n",
    "block_count = 0\n",
    "for block in blocks_1418:\n",
    "    block_count += 1\n",
    "    if block_count %50 == 0:\n",
    "        print(block_count)\n",
    "    for txn in block.txes.all:\n",
    "        japanese_inferred.append(infer_yen(txn))\n",
    "\n",
    "end = time.time()\n",
    "print(end - start)"
   ]
  },
  {
   "cell_type": "code",
   "execution_count": 31,
   "metadata": {},
   "outputs": [
    {
     "name": "stdout",
     "output_type": "stream",
     "text": [
      "50\n",
      "100\n",
      "150\n",
      "200\n",
      "250\n",
      "300\n",
      "350\n",
      "400\n",
      "450\n",
      "500\n",
      "550\n",
      "600\n",
      "650\n",
      "700\n",
      "750\n",
      "800\n",
      "850\n",
      "776.7927088737488\n"
     ]
    }
   ],
   "source": [
    "won_df = pd.read_csv(folder_name+\"btc-krw-max.csv\")\n",
    "# def get_price(date, currency_df):\n",
    "def get_won(date):\n",
    "#     price = currency_df.loc[currency_df['snapped_at'] == (date + \" 00:00:00 UTC\")]['price']\n",
    "    price = won_df.loc[won_df['snapped_at'] == (date + \" 00:00:00 UTC\")]['price']\n",
    "    if len(price)>0:\n",
    "        return float(price)\n",
    "    else:\n",
    "        return \"no info for date\"\n",
    "satoshi_to_btc = 0.00000001 # one one-hundredth million of a bitcoin is a Satoshi\n",
    "def infer_won(txn):\n",
    "    date = txn.block_time.strftime('%Y-%m-%d')\n",
    "    exchange_rate = get_won(date)\n",
    "    for output in txn.outputs:\n",
    "        txn_amount = int(exchange_rate*satoshi_to_btc*output.value) # rounding to int so as to get rid of cents\n",
    "        if (txn_amount % 100 == 0) or (txn_amount % 10 == 0):\n",
    "            won_lower = 0\n",
    "            won_higher = 14\n",
    "            if txn.block_time.hour > won_lower and txn.block_time.hour < won_higher: \n",
    "                return True\n",
    "    return False\n",
    "\n",
    "\n",
    "start = time.time()\n",
    "won_inferred = []\n",
    "block_count = 0\n",
    "for block in blocks_1418:\n",
    "    block_count += 1\n",
    "    if block_count %50 == 0:\n",
    "        print(block_count)\n",
    "    for txn in block.txes.all:\n",
    "        won_inferred.append(infer_won(txn))\n",
    "\n",
    "end = time.time()\n",
    "print(end - start)"
   ]
  },
  {
   "cell_type": "code",
   "execution_count": 32,
   "metadata": {},
   "outputs": [
    {
     "name": "stdout",
     "output_type": "stream",
     "text": [
      "chinese %0.20550398965870975\n",
      "japanese %0.19906884903732314\n",
      "dollar %0.18305190608242594\n",
      "won %0.1214572878226959\n"
     ]
    }
   ],
   "source": [
    "print('chinese %' + str(sum(chinese_inferred)/len(chinese_inferred)))\n",
    "print('japanese %' + str(sum(japanese_inferred)/len(japanese_inferred)))\n",
    "print('dollar %' + str(sum(inferred_transactions)/len(inferred_transactions)))\n",
    "print('won %' + str(sum(won_inferred)/len(won_inferred)))"
   ]
  },
  {
   "cell_type": "code",
   "execution_count": 19,
   "metadata": {},
   "outputs": [
    {
     "data": {
      "text/plain": [
       "int"
      ]
     },
     "execution_count": 19,
     "metadata": {},
     "output_type": "execute_result"
    }
   ],
   "source": [
    "type(blocks_1418[0].txes.all[0].block_time.hour)"
   ]
  },
  {
   "cell_type": "code",
   "execution_count": null,
   "metadata": {},
   "outputs": [],
   "source": [
    "for block in blocks_1418:\n",
    "    block_count += 1\n",
    "    if block_count %50 == 0:\n",
    "        print(block_count)\n",
    "    for txn in block.txes.all:\n",
    "#         japanese_inferred.append(infer_yen(txn))"
   ]
  },
  {
   "cell_type": "code",
   "execution_count": 48,
   "metadata": {},
   "outputs": [
    {
     "data": {
      "text/plain": [
       "1260658449"
      ]
     },
     "execution_count": 48,
     "metadata": {},
     "output_type": "execute_result"
    }
   ],
   "source": [
    "# started at 4:49am.\n",
    "blocks_2017[0].coinbase_tx.output_value"
   ]
  },
  {
   "cell_type": "code",
   "execution_count": 63,
   "metadata": {},
   "outputs": [],
   "source": [
    "# script to see how much money miners made in 2017\n",
    "miners_total = 0\n",
    "for block in blocks_2017:\n",
    "    miners_total += block.fee + block.coinbase_tx.output_value\n",
    "miners_total*satoshi_to_btc"
   ]
  },
  {
   "cell_type": "code",
   "execution_count": 6,
   "metadata": {},
   "outputs": [
    {
     "ename": "TypeError",
     "evalue": "is_definite_coinjoin(): incompatible function arguments. The following argument types are supported:\n    1. (arg0: blocksci.blocksci_interface.Tx, arg1: int, arg2: float, arg3: int) -> blocksci::heuristics::CoinJoinResult\n    2. (arg0: blocksci.blocksci_interface.Tx, arg1: int, arg2: float) -> blocksci::heuristics::CoinJoinResult\n\nInvoked with: Tx(len(txins)=0, len(txouts)=1, size_bytes=128, block_height=446064, tx_index=183813678)",
     "output_type": "error",
     "traceback": [
      "\u001b[0;31m---------------------------------------------------------------------------\u001b[0m",
      "\u001b[0;31mTypeError\u001b[0m                                 Traceback (most recent call last)",
      "\u001b[0;32m<ipython-input-6-e4f78bbd75d1>\u001b[0m in \u001b[0;36m<module>\u001b[0;34m()\u001b[0m\n\u001b[1;32m      2\u001b[0m \u001b[0;32mfor\u001b[0m \u001b[0mblock\u001b[0m \u001b[0;32min\u001b[0m \u001b[0mblocks_2017\u001b[0m\u001b[0;34m:\u001b[0m\u001b[0;34m\u001b[0m\u001b[0m\n\u001b[1;32m      3\u001b[0m     \u001b[0;32mfor\u001b[0m \u001b[0mtxn\u001b[0m \u001b[0;32min\u001b[0m \u001b[0mblock\u001b[0m\u001b[0;34m.\u001b[0m\u001b[0mtxes\u001b[0m\u001b[0;34m.\u001b[0m\u001b[0mall\u001b[0m\u001b[0;34m:\u001b[0m\u001b[0;34m\u001b[0m\u001b[0m\n\u001b[0;32m----> 4\u001b[0;31m         \u001b[0;32mif\u001b[0m \u001b[0mblocksci\u001b[0m\u001b[0;34m.\u001b[0m\u001b[0mblocksci_interface\u001b[0m\u001b[0;34m.\u001b[0m\u001b[0mheuristics\u001b[0m\u001b[0;34m.\u001b[0m\u001b[0mis_definite_coinjoin\u001b[0m\u001b[0;34m(\u001b[0m\u001b[0mtxn\u001b[0m\u001b[0;34m)\u001b[0m\u001b[0;34m:\u001b[0m\u001b[0;34m\u001b[0m\u001b[0m\n\u001b[0m\u001b[1;32m      5\u001b[0m             \u001b[0mcount\u001b[0m \u001b[0;34m+=\u001b[0m \u001b[0;36m1\u001b[0m\u001b[0;34m\u001b[0m\u001b[0m\n\u001b[1;32m      6\u001b[0m \u001b[0mcount\u001b[0m\u001b[0;34m\u001b[0m\u001b[0m\n",
      "\u001b[0;31mTypeError\u001b[0m: is_definite_coinjoin(): incompatible function arguments. The following argument types are supported:\n    1. (arg0: blocksci.blocksci_interface.Tx, arg1: int, arg2: float, arg3: int) -> blocksci::heuristics::CoinJoinResult\n    2. (arg0: blocksci.blocksci_interface.Tx, arg1: int, arg2: float) -> blocksci::heuristics::CoinJoinResult\n\nInvoked with: Tx(len(txins)=0, len(txouts)=1, size_bytes=128, block_height=446064, tx_index=183813678)"
     ]
    }
   ],
   "source": [
    "count = 0 \n",
    "for block in blocks_2017:\n",
    "    for txn in block.txes.all:\n",
    "        if blocksci.blocksci_interface.heuristics.is_definite_coinjoin(txn):\n",
    "            count += 1\n",
    "count"
   ]
  },
  {
   "cell_type": "code",
   "execution_count": 10,
   "metadata": {},
   "outputs": [],
   "source": [
    "hi = blocksci.blocksci_interface.heuristics.coinjoin_txes(chain,0,1000)"
   ]
  },
  {
   "cell_type": "code",
   "execution_count": null,
   "metadata": {},
   "outputs": [],
   "source": []
  },
  {
   "cell_type": "code",
   "execution_count": null,
   "metadata": {},
   "outputs": [],
   "source": []
  }
 ],
 "metadata": {
  "kernelspec": {
   "display_name": "Python 3",
   "language": "python",
   "name": "python3"
  },
  "language_info": {
   "codemirror_mode": {
    "name": "ipython",
    "version": 3
   },
   "file_extension": ".py",
   "mimetype": "text/x-python",
   "name": "python",
   "nbconvert_exporter": "python",
   "pygments_lexer": "ipython3",
   "version": "3.5.2"
  }
 },
 "nbformat": 4,
 "nbformat_minor": 2
}
